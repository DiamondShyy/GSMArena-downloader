{
 "cells": [
  {
   "cell_type": "code",
   "execution_count": 1,
   "id": "833a0adc",
   "metadata": {},
   "outputs": [],
   "source": [
    "from bs4 import BeautifulSoup\n",
    "import csv\n",
    "import os\n",
    "import time\n",
    "import json\n",
    "import requests\n",
    "import re\n",
    "import pandas as pd\n",
    "import numpy as np\n",
    "import lxml"
   ]
  },
  {
   "cell_type": "code",
   "execution_count": 2,
   "id": "18a60b0b",
   "metadata": {},
   "outputs": [],
   "source": [
    "pd.set_option('display.max_columns', 50)"
   ]
  },
  {
   "cell_type": "code",
   "execution_count": 3,
   "id": "a0b27da4",
   "metadata": {},
   "outputs": [],
   "source": [
    "headers = {\n",
    "    'accept': '*/*',\n",
    "    'user-agent': 'Mozilla/5.0 (Macintosh; Intel Mac OS X 10_15_7) AppleWebKit/537.36 (KHTML, like Gecko) Chrome/111.0.0.0 Safari/537.36'\n",
    "}\n"
   ]
  },
  {
   "cell_type": "code",
   "execution_count": 4,
   "id": "fb406c7c",
   "metadata": {},
   "outputs": [],
   "source": [
    "list_spec = [\n",
    "    'year',\n",
    "    'status',\n",
    "    'dimensions',\n",
    "    'weight',\n",
    "    'sim',\n",
    "    'displaytype',\n",
    "    'displaysize',\n",
    "    'displayresolution',\n",
    "    'os',\n",
    "    'chipset',\n",
    "    'cpu',\n",
    "    'gpu',\n",
    "    'memoryslot',\n",
    "    'internalmemory',\n",
    "    'cam1modules',\n",
    "    'cam1features',\n",
    "    'cam1video',\n",
    "    'cam2modules',\n",
    "    'cam2video',\n",
    "    'wlan',\n",
    "    'bluetooth',\n",
    "    'gps',\n",
    "    'nfc',\n",
    "    'radio',\n",
    "    'batdescription1',\n",
    "    'price'\n",
    "]"
   ]
  },
  {
   "cell_type": "code",
   "execution_count": 5,
   "id": "54fcfb69",
   "metadata": {},
   "outputs": [],
   "source": [
    "#function for downoload page of brand/telephones list/telephone spec\n",
    "\n",
    "def get_soup_page(url_add):\n",
    "    try:\n",
    "        time.sleep(30)\n",
    "        url = 'https://www.gsmarena.com/' + url_add\n",
    "        req = requests.get(url, headers = headers)\n",
    "        soup = BeautifulSoup(req.text, 'lxml')\n",
    "        return soup\n",
    "    except:\n",
    "        time.sleep(300)\n",
    "        url = 'https://www.gsmarena.com/' + url_add\n",
    "        req = requests.get(url, headers = headers)\n",
    "        soup = BeautifulSoup(req.text, 'lxml')\n",
    "        return soup"
   ]
  },
  {
   "cell_type": "code",
   "execution_count": 6,
   "id": "8decc74f",
   "metadata": {},
   "outputs": [],
   "source": [
    "#get all info about mobile brands\n",
    "\n",
    "def get_links_brands():\n",
    "    url_add = 'makers.php3'\n",
    "    soup_brands = get_soup_page(url_add)\n",
    "    links_brands = soup_brands.find(class_= 'st-text').find_all('a', href =  True)\n",
    "    return links_brands"
   ]
  },
  {
   "cell_type": "code",
   "execution_count": 7,
   "id": "e36e8216",
   "metadata": {},
   "outputs": [],
   "source": [
    "#get list of all mobile phones by one brand\n",
    "\n",
    "def get_links_phone_brand(link_brand):\n",
    "    url_add = link_brand.get('href')\n",
    "    soup_phones = get_soup_page(url_add)\n",
    "    links_phones = soup_phones.find(class_= 'makers').find_all('a', href =  True)\n",
    "    try:\n",
    "        pages_phones = soup_phones.find(class_= 'nav-pages').find_all('a', href =  True)\n",
    "        links_page_phones = get_links_phone_from_pages(pages_phones)\n",
    "        links_phones += links_page_phones\n",
    "    except AttributeError:\n",
    "        pass\n",
    "    return links_phones"
   ]
  },
  {
   "cell_type": "code",
   "execution_count": 8,
   "id": "3be4d109",
   "metadata": {},
   "outputs": [],
   "source": [
    "#get links of mobile phones on different pages by one brand\n",
    "\n",
    "def get_links_phone_from_pages(pages_phones):\n",
    "    links_page_phones = []\n",
    "    for page in pages_phones:\n",
    "        url_add = page.get('href')\n",
    "        soup_phones_page = get_soup_page(url_add)\n",
    "        var_links_phones = soup_phones_page.find(class_= 'makers').find_all('a', href =  True)\n",
    "        links_page_phones += var_links_phones\n",
    "    return links_page_phones"
   ]
  },
  {
   "cell_type": "code",
   "execution_count": 9,
   "id": "3c106f31",
   "metadata": {},
   "outputs": [],
   "source": [
    "#get specification of mobile phone with \"list_spec\"\n",
    "\n",
    "def get_spec_phone(link_phone):\n",
    "    url_add = link_phone.get('href')\n",
    "    soup_phone = get_soup_page(url_add)\n",
    "    phone_dict = {}\n",
    "    try:\n",
    "        phone_title = soup_phone.find(class_='specs-phone-name-title').text\n",
    "    except:\n",
    "        print('No title')\n",
    "    phone_dict['title'] = phone_title\n",
    "    for spec in list_spec:\n",
    "        try:\n",
    "            var = soup_phone.find('td', {'data-spec': spec}).text\n",
    "            phone_dict[spec] = var\n",
    "        except AttributeError:\n",
    "            phone_dict[spec] = 'no data'\n",
    "    return phone_dict"
   ]
  },
  {
   "cell_type": "code",
   "execution_count": 10,
   "id": "3e44af05",
   "metadata": {},
   "outputs": [],
   "source": [
    "#main funcition for creating mobile phone dataset\n",
    "\n",
    "def get_phone_dataframe(list_spec):\n",
    "    try:\n",
    "        links_brands = get_links_brands()\n",
    "        df_all_phones = pd.DataFrame(columns = list_spec)\n",
    "        for link_brand in links_brands:\n",
    "            links_phones = get_links_phone_brand(link_brand)\n",
    "            for link_phone in links_phones:\n",
    "                phone_dict = get_spec_phone(link_phone)\n",
    "                phone_dict['brand'] = link_brand.get('href').split('-')[0]\n",
    "                print(phone_dict['title'])\n",
    "                df_all_phones = df_all_phones.append(phone_dict, ignore_index = True)\n",
    "        return df_all_phones\n",
    "    except KeyboardInterrupt:\n",
    "        return df_all_phones"
   ]
  },
  {
   "cell_type": "code",
   "execution_count": null,
   "id": "19e3636e",
   "metadata": {},
   "outputs": [],
   "source": [
    "df_export_phones = get_phone_dataframe(list_spec)\n"
   ]
  },
  {
   "cell_type": "code",
   "execution_count": null,
   "id": "7ac02592",
   "metadata": {},
   "outputs": [],
   "source": [
    "# save dataset to excel file\n",
    "\n",
    "df_export_phones.to_excel('mobile_phone_dataset.xlsx', index = False)"
   ]
  }
 ],
 "metadata": {
  "kernelspec": {
   "display_name": "Python 3 (ipykernel)",
   "language": "python",
   "name": "python3"
  },
  "language_info": {
   "codemirror_mode": {
    "name": "ipython",
    "version": 3
   },
   "file_extension": ".py",
   "mimetype": "text/x-python",
   "name": "python",
   "nbconvert_exporter": "python",
   "pygments_lexer": "ipython3",
   "version": "3.9.7"
  }
 },
 "nbformat": 4,
 "nbformat_minor": 5
}
